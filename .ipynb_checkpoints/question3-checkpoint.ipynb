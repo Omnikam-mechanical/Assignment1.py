{
 "cells": [
  {
   "cell_type": "code",
   "execution_count": null,
   "id": "da3e43f9-509a-4c7e-bd54-b949bf6aa56d",
   "metadata": {},
   "outputs": [],
   "source": []
  },
  {
   "cell_type": "code",
   "execution_count": null,
   "id": "79c10126-61eb-4303-bccb-89ed55149b33",
   "metadata": {},
   "outputs": [],
   "source": [
    "#Compare and contrast mutable and immutable opbnjects in python.\n",
    "'''In Python, objects are categorized as either mutable or immutable based on whether their state can be modified after they are created.\n",
    "Understanding the difference between mutable and immutable objects is essential for writing efficient and predictable Python code.'''\n",
    "\n"
   ]
  },
  {
   "cell_type": "raw",
   "id": "d179e6e2-b3be-4448-9e08-b914b9d490f1",
   "metadata": {},
   "source": [
    "Mutable vs. Immutable Objects\n",
    "1. Mutable Objects\n",
    "\n",
    "Definition: Mutable objects are those whose state or content can be changed after they are created. This means you can modify the object itself without creating a new one.\n",
    "\n",
    "Characteristics:\n",
    "\n",
    "In-place Modification: You can change the contents of the object directly.\n",
    "Reference Sharing: Multiple variables can reference the same mutable object, and changes made through one variable will be reflected in others.\n",
    "Examples:"
   ]
  },
  {
   "cell_type": "code",
   "execution_count": 1,
   "id": "e6c7c5c4-083c-4353-8957-3357ed429dbc",
   "metadata": {},
   "outputs": [
    {
     "name": "stdout",
     "output_type": "stream",
     "text": [
      "[1, 2, 3]\n",
      "[1, 2, 3, 4]\n",
      "[10, 2, 3, 4]\n"
     ]
    }
   ],
   "source": [
    "#Lists: Lists can be modified by adding, removing, or changing elements.\n",
    "\n",
    "\n",
    "my_list = [1, 2, 3]\n",
    "print(my_list)  \n",
    "\n",
    "my_list.append(4)  # Adds an element to the list\n",
    "print(my_list)  \n",
    "my_list[0] = 10  # Modifies an element\n",
    "print(my_list)  \n"
   ]
  },
  {
   "cell_type": "code",
   "execution_count": 2,
   "id": "1118ee7a-6131-4c0b-9e9f-3b4d332725f2",
   "metadata": {},
   "outputs": [
    {
     "name": "stdout",
     "output_type": "stream",
     "text": [
      "{'a': 1, 'b': 2}\n",
      "{'a': 1, 'b': 2, 'c': 3}\n",
      "{'a': 10, 'b': 2, 'c': 3}\n"
     ]
    }
   ],
   "source": [
    "#Dictionaries: Dictionaries can be modified by adding or updating key-value pairs.\n",
    "my_dict = {'a': 1, 'b': 2}\n",
    "print(my_dict)  # Output: {'a': 1, 'b': 2}\n",
    "\n",
    "my_dict['c'] = 3  # Adds a new key-value pair\n",
    "print(my_dict)  # Output: {'a': 1, 'b': 2, 'c': 3}\n",
    "\n",
    "my_dict['a'] = 10  # Updates an existing key-value pair\n",
    "print(my_dict)  # Output: {'a': 10, 'b': 2, 'c': 3}"
   ]
  },
  {
   "cell_type": "raw",
   "id": "145e52dc-9ee2-4de9-a856-768069fed701",
   "metadata": {},
   "source": [
    "2. Immutable Objects\n",
    "\n",
    "\n",
    "Definition: Immutable objects are those whose state or content cannot be changed once they are created. Any operation that appears to modify an immutable object actually creates a new object with the modified value.\n",
    "\n",
    "Characteristics:\n",
    "\n",
    "In-place Modification Not Possible: You cannot change the contents of the object directly. Any modification results in the creation of a new object.\n",
    "Reference Consistency: Variables referencing immutable objects always point to the same object, even if it is reassigned to a new value.\n",
    "Examples:\n",
    "\n",
    "Integers: Integer values cannot be changed. "
   ]
  },
  {
   "cell_type": "code",
   "execution_count": 10,
   "id": "a38bc90e-7332-4c45-9a7d-30226686bb48",
   "metadata": {},
   "outputs": [
    {
     "name": "stdout",
     "output_type": "stream",
     "text": [
      "5\n",
      "6\n",
      "hello\n",
      "hello world\n"
     ]
    },
    {
     "ename": "TypeError",
     "evalue": "'str' object does not support item assignment",
     "output_type": "error",
     "traceback": [
      "\u001b[0;31m---------------------------------------------------------------------------\u001b[0m",
      "\u001b[0;31mTypeError\u001b[0m                                 Traceback (most recent call last)",
      "Cell \u001b[0;32mIn[10], line 17\u001b[0m\n\u001b[1;32m     15\u001b[0m \u001b[38;5;66;03m#No item assigmnment to string or tuple\u001b[39;00m\n\u001b[1;32m     16\u001b[0m s\u001b[38;5;241m=\u001b[39m\u001b[38;5;124m\"\u001b[39m\u001b[38;5;124mhello\u001b[39m\u001b[38;5;124m\"\u001b[39m\n\u001b[0;32m---> 17\u001b[0m \u001b[43ms\u001b[49m\u001b[43m[\u001b[49m\u001b[38;5;241;43m4\u001b[39;49m\u001b[43m]\u001b[49m\u001b[38;5;241m=\u001b[39m\u001b[38;5;124m'\u001b[39m\u001b[38;5;124mg\u001b[39m\u001b[38;5;124m'\u001b[39m\n\u001b[1;32m     18\u001b[0m \u001b[38;5;28mprint\u001b[39m(s)\n",
      "\u001b[0;31mTypeError\u001b[0m: 'str' object does not support item assignment"
     ]
    }
   ],
   "source": [
    "x = 5\n",
    "print(x)  # Output: 5\n",
    "\n",
    "x += 1  # Creates a new integer object\n",
    "print(x)  # Output: 6\n",
    "#Strings: Strings are immutable.# Modifying a string creates a new string object.\n",
    "\n",
    "\n",
    "s = \"hello\"\n",
    "print(s)  # Output: hello\n",
    "\n",
    "s = s + \" world\"  # Creates a new string object\n",
    "print(s)  # Output: hello world\n",
    "\n",
    "#No item assigmnment to string or tuple\n",
    "s=\"hello\"\n",
    "s[4]='g'\n",
    "print(s)"
   ]
  },
  {
   "cell_type": "code",
   "execution_count": 11,
   "id": "264d0295-23b2-4558-9b82-5cec91b0803a",
   "metadata": {},
   "outputs": [
    {
     "name": "stdout",
     "output_type": "stream",
     "text": [
      "(1, 2, 3)\n",
      "(1, 2, 3, 4)\n"
     ]
    },
    {
     "ename": "AttributeError",
     "evalue": "'tuple' object has no attribute 'append'",
     "output_type": "error",
     "traceback": [
      "\u001b[0;31m---------------------------------------------------------------------------\u001b[0m",
      "\u001b[0;31mAttributeError\u001b[0m                            Traceback (most recent call last)",
      "Cell \u001b[0;32mIn[11], line 7\u001b[0m\n\u001b[1;32m      4\u001b[0m t \u001b[38;5;241m=\u001b[39m t \u001b[38;5;241m+\u001b[39m (\u001b[38;5;241m4\u001b[39m,)  \u001b[38;5;66;03m# Creates a new tuple\u001b[39;00m\n\u001b[1;32m      5\u001b[0m \u001b[38;5;28mprint\u001b[39m(t)  \u001b[38;5;66;03m# Output: (1, 2, 3, 4)\u001b[39;00m\n\u001b[0;32m----> 7\u001b[0m \u001b[43mt\u001b[49m\u001b[38;5;241;43m.\u001b[39;49m\u001b[43mappend\u001b[49m()\u001b[38;5;66;03m#not possible to item assignment to tuple\u001b[39;00m\n",
      "\u001b[0;31mAttributeError\u001b[0m: 'tuple' object has no attribute 'append'"
     ]
    }
   ],
   "source": [
    "t = (1, 2, 3)\n",
    "print(t)  # Output: (1, 2, 3)\n",
    "\n",
    "t = t + (4,)  # Creates a new tuple\n",
    "print(t)  # Output: (1, 2, 3, 4)\n",
    "\n",
    "t.append()#not possible to item assignment to tuple\n"
   ]
  },
  {
   "cell_type": "code",
   "execution_count": 8,
   "id": "5071e072-e6ca-4980-84c6-90e950b0af32",
   "metadata": {},
   "outputs": [
    {
     "name": "stdout",
     "output_type": "stream",
     "text": [
      "[0, 1, 2, 3, range(0, 4)]\n"
     ]
    }
   ],
   "source": []
  },
  {
   "cell_type": "code",
   "execution_count": null,
   "id": "731ce7ea-c0df-4369-a9e4-230ae8088437",
   "metadata": {},
   "outputs": [],
   "source": []
  }
 ],
 "metadata": {
  "kernelspec": {
   "display_name": "Python 3 (ipykernel)",
   "language": "python",
   "name": "python3"
  },
  "language_info": {
   "codemirror_mode": {
    "name": "ipython",
    "version": 3
   },
   "file_extension": ".py",
   "mimetype": "text/x-python",
   "name": "python",
   "nbconvert_exporter": "python",
   "pygments_lexer": "ipython3",
   "version": "3.10.8"
  }
 },
 "nbformat": 4,
 "nbformat_minor": 5
}
