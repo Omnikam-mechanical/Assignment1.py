{
 "cells": [
  {
   "cell_type": "code",
   "execution_count": null,
   "id": "686371a5-fe83-4a14-89de-f4e0c005f5a9",
   "metadata": {},
   "outputs": [],
   "source": [
    "#Explain the concept of type casting ion python with examples.\n",
    "#Type casting, also known as type conversion, refers to the process of converting a variable from one data type to another. In Python, type casting allows you to change the data type of a variable or a value to suit the requirements of a specific operation or context. Python provides several built-in functions for type casting.\n",
    "\n"
   ]
  },
  {
   "cell_type": "code",
   "execution_count": 1,
   "id": "ece6c382-b098-485b-a381-bfab843a3156",
   "metadata": {},
   "outputs": [
    {
     "name": "stdout",
     "output_type": "stream",
     "text": [
      "10.0\n"
     ]
    }
   ],
   "source": [
    "#1. Integer to Float Conversion\n",
    "#You can convert an integer to a floating-point number using the float() function:\n",
    "\n",
    "\n",
    "x = 10\n",
    "y = float(x)\n",
    "print(y)  # Output: 10.0"
   ]
  },
  {
   "cell_type": "code",
   "execution_count": 2,
   "id": "786504ba-789a-4abe-8aa7-473c8568f36a",
   "metadata": {},
   "outputs": [
    {
     "name": "stdout",
     "output_type": "stream",
     "text": [
      "5\n"
     ]
    }
   ],
   "source": [
    "#2. Float to Integer Conversion\n",
    "#Converting a floating-point number to an integer truncates the decimal part using the int() function:\n",
    "\n",
    "a = 5.6\n",
    "b = int(a)\n",
    "print(b)  # Output: 5"
   ]
  },
  {
   "cell_type": "code",
   "execution_count": 3,
   "id": "bce859f8-10df-4db3-8cbb-298e42ef5b38",
   "metadata": {},
   "outputs": [
    {
     "name": "stdout",
     "output_type": "stream",
     "text": [
      "123\n"
     ]
    }
   ],
   "source": [
    "#3.Integer to string\n",
    "#Convertiong a integer to a string using str() function:\n",
    "\n",
    "\n",
    "num = 123\n",
    "num_str = str(num)\n",
    "print(num_str)  # Output: \"123\"\n"
   ]
  },
  {
   "cell_type": "code",
   "execution_count": 4,
   "id": "1a1a0acd-c38f-49c4-98c0-525208550ae2",
   "metadata": {},
   "outputs": [
    {
     "name": "stdout",
     "output_type": "stream",
     "text": [
      "456\n"
     ]
    }
   ],
   "source": [
    "#String to Integer Conversion\n",
    "#Converting a string representation of a number to an integer using the int() function:\n",
    "\n",
    "\n",
    "num_str = \"456\"\n",
    "num = int(num_str)\n",
    "print(num)  # Output: 456"
   ]
  },
  {
   "cell_type": "code",
   "execution_count": 5,
   "id": "f5370525-dc20-40b8-b64b-87d289d52c8c",
   "metadata": {},
   "outputs": [
    {
     "name": "stdout",
     "output_type": "stream",
     "text": [
      "22.5\n"
     ]
    }
   ],
   "source": [
    "#5. String to Float Conversion\n",
    "#Converting a string representation of a floating-point number to a float using the float() function:\n",
    "\n",
    "float_str=\"22.5\"\n",
    "float_num = float(float_str)\n",
    "print(float_num)"
   ]
  },
  {
   "cell_type": "code",
   "execution_count": null,
   "id": "825d142e-f9b9-4adf-9e20-1c667fdf6808",
   "metadata": {},
   "outputs": [],
   "source": []
  }
 ],
 "metadata": {
  "kernelspec": {
   "display_name": "Python 3 (ipykernel)",
   "language": "python",
   "name": "python3"
  },
  "language_info": {
   "codemirror_mode": {
    "name": "ipython",
    "version": 3
   },
   "file_extension": ".py",
   "mimetype": "text/x-python",
   "name": "python",
   "nbconvert_exporter": "python",
   "pygments_lexer": "ipython3",
   "version": "3.10.8"
  }
 },
 "nbformat": 4,
 "nbformat_minor": 5
}
