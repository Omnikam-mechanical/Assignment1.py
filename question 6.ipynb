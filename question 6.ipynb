{
 "cells": [
  {
   "cell_type": "code",
   "execution_count": null,
   "id": "b475c4f0-7151-423e-b863-2f863973873b",
   "metadata": {},
   "outputs": [],
   "source": [
    "#Describe different types odf  loops with examples\n",
    "'''In Python, loops are used to execute a block of code repeatedly until a specified condition is met. Python supports two main types of loops: \n",
    "for loops and while loops. Each type has its own use cases and scenarios where they are most appropriate.'''\n",
    "\n"
   ]
  },
  {
   "cell_type": "code",
   "execution_count": 1,
   "id": "b356684b-67e3-4ec2-9d5e-ebc6560751fa",
   "metadata": {},
   "outputs": [
    {
     "name": "stdout",
     "output_type": "stream",
     "text": [
      "apple\n",
      "banana\n",
      "cherry\n"
     ]
    }
   ],
   "source": [
    "#### Example 1: Iterating over a List\n",
    "\n",
    "\n",
    "fruits = [\"apple\", \"banana\", \"cherry\"]\n",
    "\n",
    "for fruit in fruits:\n",
    "    print(fruit)\n"
   ]
  },
  {
   "cell_type": "code",
   "execution_count": 3,
   "id": "2ce789f0-5587-4806-b6c9-a5345756c216",
   "metadata": {},
   "outputs": [
    {
     "name": "stdout",
     "output_type": "stream",
     "text": [
      "P\n",
      "y\n",
      "t\n",
      "h\n",
      "o\n",
      "n\n"
     ]
    }
   ],
   "source": [
    "#### Example 2: Iterating over a String\n",
    "\n",
    "\n",
    "for char in \"Python\":\n",
    "    print(char)\n"
   ]
  },
  {
   "cell_type": "code",
   "execution_count": 4,
   "id": "d2bf22da-5ffd-4d04-b582-43ec6f5fd9b6",
   "metadata": {},
   "outputs": [
    {
     "name": "stdout",
     "output_type": "stream",
     "text": [
      "1\n",
      "2\n",
      "3\n",
      "4\n"
     ]
    }
   ],
   "source": [
    "### Example 3: Using `range()` for Numeric Iteration\n",
    "\n",
    "\n",
    "for i in range(1, 5):  # range(start, stop) generates numbers from start to stop-1\n",
    "    print(i)"
   ]
  },
  {
   "cell_type": "code",
   "execution_count": 7,
   "id": "874fd693-179a-4ac7-a7e4-cdb157e50560",
   "metadata": {},
   "outputs": [
    {
     "name": "stdout",
     "output_type": "stream",
     "text": [
      "1\n",
      "2\n",
      "1\n",
      "2\n",
      "4\n",
      "5\n",
      "6\n",
      "7\n"
     ]
    }
   ],
   "source": [
    "for i in range(1,4):\n",
    "\n",
    "    if i==3:\n",
    "        break\n",
    "    print (i)\n"
   ]
  },
  {
   "cell_type": "code",
   "execution_count": 8,
   "id": "c9c6794d-85b3-47dc-8da4-dc90c422f6d6",
   "metadata": {},
   "outputs": [
    {
     "name": "stdout",
     "output_type": "stream",
     "text": [
      "1\n",
      "2\n",
      "4\n",
      "5\n",
      "6\n",
      "7\n"
     ]
    }
   ],
   "source": [
    "for i in range(1,8):\n",
    "    \n",
    "    if i==3:\n",
    "        continue\n",
    "    print(i)"
   ]
  },
  {
   "cell_type": "code",
   "execution_count": 9,
   "id": "1b436e48-d277-4a72-bca3-7b9266e326a0",
   "metadata": {},
   "outputs": [
    {
     "data": {
      "text/plain": [
       "' Use Cases of for Loops:\\nIterating over sequences: Lists, tuples, strings, and other iterable objects.\\nPerforming a fixed number of iterations: Using range() for numeric loops.\\nIterating over dictionaries: Using methods like .items(), .keys(), or .values() to access dictionary elements.'"
      ]
     },
     "execution_count": 9,
     "metadata": {},
     "output_type": "execute_result"
    }
   ],
   "source": [
    "''' Use Cases of for Loops:\n",
    "Iterating over sequences: Lists, tuples, strings, and other iterable objects.\n",
    "Performing a fixed number of iterations: Using range() for numeric loops.\n",
    "Iterating over dictionaries: Using methods like .items(), .keys(), or .values() to access dictionary elements.'''\n"
   ]
  },
  {
   "cell_type": "raw",
   "id": "1f9a0f99-bd01-470a-bdc1-c75a97948598",
   "metadata": {},
   "source": [
    " 2. whileLoops:\n",
    "\n",
    "'''A while loop executes a block of code as long as a specified condition is `True`. \n",
    "It continues iterating until the condition becomes `False`.'''\n",
    "\n",
    "#### Syntax of `while` Loop:\n",
    "\n",
    "while condition:\n",
    "    # Block of code to be executed as long as condition is true\n",
    "    statement1\n",
    "    statement2\n",
    "    ...\n",
    "\n",
    "    "
   ]
  },
  {
   "cell_type": "code",
   "execution_count": null,
   "id": "63598c70-ff88-413b-bd14-cbbb11fab40f",
   "metadata": {},
   "outputs": [],
   "source": []
  },
  {
   "cell_type": "code",
   "execution_count": 6,
   "id": "876afca0-b350-4293-9339-91e85dc051c2",
   "metadata": {},
   "outputs": [
    {
     "name": "stdout",
     "output_type": "stream",
     "text": [
      "5\n",
      "4\n",
      "3\n",
      "2\n",
      "1\n"
     ]
    }
   ],
   "source": [
    "#### Example 4: while Loop for Countdown\n",
    "\n",
    "\n",
    "count = 5\n",
    "\n",
    "while count > 0:\n",
    "    print(count)\n",
    "    count -= 1\n",
    "\n",
    "\n",
    "\n",
    "\n",
    "\n",
    "\n"
   ]
  },
  {
   "cell_type": "code",
   "execution_count": null,
   "id": "2c3e7dee-f5aa-4c98-9db2-0f122bcbf3d3",
   "metadata": {},
   "outputs": [],
   "source": [
    "### Use Cases of while Loops:\n",
    "'''Indefinite iteration: When you don't know in advance how many times the loop will run.\n",
    "Iterating based on user input or conditions that can change: Continuously checking conditions until a specific criterion is met.\n",
    "- Simulating an event loop: Running until a certain event or condition occurs.''"
   ]
  }
 ],
 "metadata": {
  "kernelspec": {
   "display_name": "Python 3 (ipykernel)",
   "language": "python",
   "name": "python3"
  },
  "language_info": {
   "codemirror_mode": {
    "name": "ipython",
    "version": 3
   },
   "file_extension": ".py",
   "mimetype": "text/x-python",
   "name": "python",
   "nbconvert_exporter": "python",
   "pygments_lexer": "ipython3",
   "version": "3.10.8"
  }
 },
 "nbformat": 4,
 "nbformat_minor": 5
}
