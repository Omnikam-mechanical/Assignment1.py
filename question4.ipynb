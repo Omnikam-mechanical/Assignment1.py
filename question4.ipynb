{
 "cells": [
  {
   "cell_type": "code",
   "execution_count": null,
   "id": "c817f24a-7fdc-4ecb-90a4-7f0feaf92b89",
   "metadata": {},
   "outputs": [],
   "source": [
    "#Discuss the diffeent types of operators in Python and provide examples of how they are used"
   ]
  },
  {
   "cell_type": "raw",
   "id": "30bdc5d7-9460-473b-b1d6-efa2bc100d46",
   "metadata": {},
   "source": [
    "1. Arithmetic Operators\n",
    "Arithmetic operators are used to perform mathematical operations like addition, subtraction, multiplication, division, etc."
   ]
  },
  {
   "cell_type": "code",
   "execution_count": 2,
   "id": "4fb42291-be34-40f6-b6f9-f63d3090b15b",
   "metadata": {},
   "outputs": [
    {
     "name": "stdout",
     "output_type": "stream",
     "text": [
      "15\n",
      "5\n",
      "50\n",
      "2.0\n",
      "2\n",
      "0\n"
     ]
    }
   ],
   "source": [
    "a = 10\n",
    "b = 5\n",
    "\n",
    "# Addition\n",
    "add = a + b\n",
    "print(add)\n",
    "\n",
    "# Subtraction\n",
    "sub = a - b\n",
    "print(sub)\n",
    "\n",
    "# Multiplication\n",
    "mul = a * b\n",
    "print(mul)\n",
    "\n",
    "# Division\n",
    "div = a / b\n",
    "print(div)\n",
    "\n",
    "# Floor Division (integer division)\n",
    "div = a // b\n",
    "print(div)\n",
    "\n",
    "# Modulus (remainder)\n",
    "mod = a % b\n",
    "print(mod)\n"
   ]
  },
  {
   "cell_type": "code",
   "execution_count": null,
   "id": "3ce51ef3-b8b0-44cd-9a63-be16856879dc",
   "metadata": {},
   "outputs": [],
   "source": [
    "#2. Comparison (Relational) Operators\n",
    "#Comparison operators are used to compare values. They return True or False based on whether the comparison is true or false."
   ]
  },
  {
   "cell_type": "code",
   "execution_count": 3,
   "id": "9f1855f7-e329-4ab0-a128-f28957d37165",
   "metadata": {},
   "outputs": [
    {
     "name": "stdout",
     "output_type": "stream",
     "text": [
      "False\n",
      "True\n",
      "True\n",
      "False\n",
      "True\n",
      "False\n"
     ]
    }
   ],
   "source": [
    "a = 10\n",
    "b = 5\n",
    "\n",
    "# Equal to\n",
    "print(a == b)  # False\n",
    "\n",
    "# Not equal to\n",
    "print(a != b)  # True\n",
    "\n",
    "# Greater than\n",
    "print(a > b)   # True\n",
    "\n",
    "# Less than\n",
    "print(a < b)   # False\n",
    "\n",
    "# Greater than or equal to\n",
    "print(a >= b)  # True\n",
    "\n",
    "# Less than or equal to\n",
    "print(a <= b)  # False\n"
   ]
  },
  {
   "cell_type": "code",
   "execution_count": null,
   "id": "1bfd05bd-8c7a-481f-a64c-2f0123e0069f",
   "metadata": {},
   "outputs": [],
   "source": [
    "#3. Assignment Operators\n",
    "#Assignment operators are used to assign values to variables, and they can also perform arithmetic operations while assigning."
   ]
  },
  {
   "cell_type": "code",
   "execution_count": 4,
   "id": "0d88b483-fd42-4b33-ae77-e43ae674f19c",
   "metadata": {},
   "outputs": [
    {
     "name": "stdout",
     "output_type": "stream",
     "text": [
      "15\n",
      "12\n",
      "24\n"
     ]
    }
   ],
   "source": [
    "a = 10\n",
    "\n",
    "# Simple assignment\n",
    "b = a  # b becomes 10\n",
    "\n",
    "# Compound assignment (arithmetic operation and assignment)\n",
    "a += 5  # Equivalent to: a = a + 5\n",
    "print(a)  # Output: 15\n",
    "\n",
    "a -= 3  # Equivalent to: a = a - 3\n",
    "print(a)  # Output: 12\n",
    "\n",
    "a *= 2  # Equivalent to: a = a * 2\n",
    "print(a)  # Output: 24\n"
   ]
  },
  {
   "cell_type": "raw",
   "id": "47163b1a-1f7e-4763-9f3b-2fe75219f4be",
   "metadata": {},
   "source": [
    "4. Logical Operators\n",
    "Logical operators are used to combine conditional statements. They return True or False."
   ]
  },
  {
   "cell_type": "code",
   "execution_count": 5,
   "id": "f907090c-2e0f-4e2c-9f9c-3648a0541826",
   "metadata": {},
   "outputs": [
    {
     "name": "stdout",
     "output_type": "stream",
     "text": [
      "False\n",
      "True\n",
      "False\n"
     ]
    }
   ],
   "source": [
    "x = True\n",
    "y = False\n",
    "\n",
    "# Logical AND\n",
    "print(x and y)  # False\n",
    "\n",
    "# Logical OR\n",
    "print(x or y)   # True\n",
    "\n",
    "# Logical NOT\n",
    "print(not x)    # False\n"
   ]
  },
  {
   "cell_type": "code",
   "execution_count": null,
   "id": "6cbce38e-0869-4e5c-8a94-46453b74f062",
   "metadata": {},
   "outputs": [],
   "source": [
    "#5. Bitwise Operators\n",
    "#Bitwise operators perform operations on bits of integers.\n",
    "\n"
   ]
  },
  {
   "cell_type": "code",
   "execution_count": 6,
   "id": "d0636c70-6338-45d0-9614-2f6448aac10f",
   "metadata": {},
   "outputs": [
    {
     "name": "stdout",
     "output_type": "stream",
     "text": [
      "1\n",
      "7\n",
      "6\n",
      "-6\n",
      "10\n",
      "2\n"
     ]
    }
   ],
   "source": [
    "a = 5  # 101 in binary\n",
    "b = 3  # 011 in binary\n",
    "\n",
    "# Bitwise AND\n",
    "print(a & b)  # Output: 1 (001 in binary)\n",
    "\n",
    "# Bitwise OR\n",
    "print(a | b)  # Output: 7 (111 in binary)\n",
    "\n",
    "# Bitwise XOR\n",
    "print(a ^ b)  # Output: 6 (110 in binary)\n",
    "\n",
    "# Bitwise NOT\n",
    "print(~a)     # Output: -6 (inverts the bits and adds 1)\n",
    "\n",
    "# Bitwise left shift\n",
    "print(a << 1)  # Output: 10 (1010 in binary, shifts left by 1)\n",
    "\n",
    "# Bitwise right shift\n",
    "print(a >> 1)  # Output: 2 (10 in binary, shifts right by 1)\n"
   ]
  },
  {
   "cell_type": "code",
   "execution_count": null,
   "id": "84c84375-9125-4c76-80f0-ce173ee9a31c",
   "metadata": {},
   "outputs": [],
   "source": [
    "#Identity Operators\n",
    "#Identity operators are used to compare the memory locations of two objects.\n",
    "\n",
    "Examples:\n",
    "\n",
    "x = 5\n",
    "y = 5\n",
    "z = [1, 2, 3]\n",
    "\n",
    "# is operator\n",
    "print(x is y)   # True (x and y refer to the same object)\n",
    "\n",
    "# is not operator\n",
    "print(x is not z)  # True (x and z do not refer to the same object)"
   ]
  },
  {
   "cell_type": "code",
   "execution_count": null,
   "id": "a579d6a4-d277-4fed-9b5c-b1c0cb3d50c3",
   "metadata": {},
   "outputs": [],
   "source": [
    "#Unary Operators\n",
    "#Unary operators act on only one operand.\n",
    "\n",
    "Examples:\n",
    "\n",
    "a = 10\n",
    "\n",
    "# Unary minus (negation)\n",
    "b = -a\n",
    "print(b)  # Output: -10\n",
    "\n",
    "# Unary plus\n",
    "c = +a\n",
    "print(c)  # Output: 10 (no change)"
   ]
  },
  {
   "cell_type": "code",
   "execution_count": null,
   "id": "3aebc299-4d05-4b0c-870b-ad6483d73938",
   "metadata": {},
   "outputs": [],
   "source": []
  }
 ],
 "metadata": {
  "kernelspec": {
   "display_name": "Python 3 (ipykernel)",
   "language": "python",
   "name": "python3"
  },
  "language_info": {
   "codemirror_mode": {
    "name": "ipython",
    "version": 3
   },
   "file_extension": ".py",
   "mimetype": "text/x-python",
   "name": "python",
   "nbconvert_exporter": "python",
   "pygments_lexer": "ipython3",
   "version": "3.10.8"
  }
 },
 "nbformat": 4,
 "nbformat_minor": 5
}
