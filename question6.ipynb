{
 "cells": [
  {
   "cell_type": "code",
   "execution_count": null,
   "id": "a074f49b-8449-4307-b9e7-2704afb7ada4",
   "metadata": {},
   "outputs": [],
   "source": [
    "#Conditional statements in Python allow you to control the flow of your program based on specified conditions. They enable you to execute certain blocks of code only if certain conditions are met. Python supports if, elif (else if), and else statements for handling conditional logic.\n",
    "\n",
    "Syntax of Conditional Statements:\n",
    "\n",
    "if condition:\n",
    "    # Block of code to be executed if condition is true\n",
    "    statement1\n",
    "    statement2\n",
    "\n",
    "elif condition2:\n",
    "    # Block of code to be executed if condition2 is true (optional)\n",
    "    statement3\n",
    "    statement4\n",
    "    \n",
    "else:\n",
    "    # Block of code to be executed if none of the above conditions are true (optional)\n",
    "    statement5\n",
    "    statement6\n",
    "'''\n",
    "How Conditional Statements Work:\n",
    "if statement: The if statement checks a condition. If the condition evaluates to True, the block of code indented under the if statement is executed.\n",
    "\n",
    "elif statement: The elif (else if) statement allows you to check additional conditions if the preceding if or elif conditions evaluate to False. You can have multiple elif statements to check for different conditions sequentially.\n",
    "\n",
    "else statement: The else statement is optional and provides a default action when none of the preceding conditions (if or elif) are true. It executes the block of code indented under else.\n",
    "'''\n"
   ]
  },
  {
   "cell_type": "code",
   "execution_count": 1,
   "id": "1568fea8-d8bc-4162-bb1e-e50bd67403a0",
   "metadata": {},
   "outputs": [
    {
     "name": "stdout",
     "output_type": "stream",
     "text": [
      "The number is either zero or negative.\n"
     ]
    }
   ],
   "source": [
    "#Examples of Conditional Statements:\n",
    "#Example 1: Simple if-else Statement\n",
    "\n",
    "# Example: Checking if a number is positive or negative\n",
    "num = -5\n",
    "\n",
    "if num > 0:\n",
    "    print(\"The number is positive.\")\n",
    "else:\n",
    "    print(\"The number is either zero or negative.\")\n",
    "# Output: The number is either zero or negative."
   ]
  },
  {
   "cell_type": "code",
   "execution_count": 3,
   "id": "4c6bdede-25a8-4030-b201-eb76d88aa0b0",
   "metadata": {},
   "outputs": [
    {
     "name": "stdout",
     "output_type": "stream",
     "text": [
      "The grade for the score 85 is B.\n"
     ]
    }
   ],
   "source": [
    "#Example 2: if-elif-else Statement\n",
    "\n",
    "# Example: Determining the grade based on a score\n",
    "score = 85\n",
    "\n",
    "if score >= 90:\n",
    "    grade = 'A'\n",
    "elif score >= 80:\n",
    "    grade = 'B'\n",
    "elif score >= 70:\n",
    "    grade = 'C'\n",
    "elif score >= 60:\n",
    "    grade = 'D'\n",
    "else:\n",
    "    grade = 'F'\n",
    "\n",
    "print(f\"The grade for the score {score} is {grade}.\")\n",
    "# Output: The grade for the score 85 is B.\n"
   ]
  },
  {
   "cell_type": "code",
   "execution_count": 4,
   "id": "abcb94de-00d3-467a-bcc0-0f2ec03bfab0",
   "metadata": {},
   "outputs": [
    {
     "name": "stdout",
     "output_type": "stream",
     "text": [
      "You are eligible to vote.\n"
     ]
    }
   ],
   "source": [
    "#Example 3: Nested if Statements\n",
    "\n",
    "# Example: Checking eligibility based on age and citizenship\n",
    "age = 25\n",
    "is_citizen = True\n",
    "\n",
    "if age >= 18:\n",
    "    if is_citizen:\n",
    "        print(\"You are eligible to vote.\")\n",
    "    else:\n",
    "        print(\"You must be a citizen to vote.\")\n",
    "else:\n",
    "    print(\"You are not eligible to vote yet.\")\n",
    "# Output: You are eligible to vote."
   ]
  },
  {
   "cell_type": "code",
   "execution_count": null,
   "id": "11f5e194-2ef7-44e9-acc1-459a136e8df6",
   "metadata": {},
   "outputs": [],
   "source": []
  }
 ],
 "metadata": {
  "kernelspec": {
   "display_name": "Python 3 (ipykernel)",
   "language": "python",
   "name": "python3"
  },
  "language_info": {
   "codemirror_mode": {
    "name": "ipython",
    "version": 3
   },
   "file_extension": ".py",
   "mimetype": "text/x-python",
   "name": "python",
   "nbconvert_exporter": "python",
   "pygments_lexer": "ipython3",
   "version": "3.10.8"
  }
 },
 "nbformat": 4,
 "nbformat_minor": 5
}
